{
 "cells": [
  {
   "cell_type": "code",
   "execution_count": 1,
   "id": "wrong-procedure",
   "metadata": {},
   "outputs": [],
   "source": [
    "import pandas as pd\n",
    "import sklearn\n",
    "import numpy as np\n",
    "from sklearn.linear_model import LogisticRegression # importing Sklearn's logistic regression's module\n",
    "from sklearn.preprocessing import LabelEncoder\n",
    "from sklearn import preprocessing # preprossing is what we do with the data before we run the learning algorithm\n",
    "import matplotlib.pyplot as plt\n",
    "from sklearn.preprocessing import MinMaxScaler\n",
    "\n",
    "%matplotlib inline\n"
   ]
  },
  {
   "cell_type": "code",
   "execution_count": 2,
   "id": "every-place",
   "metadata": {},
   "outputs": [
    {
     "data": {
      "text/html": [
       "<div>\n",
       "<style scoped>\n",
       "    .dataframe tbody tr th:only-of-type {\n",
       "        vertical-align: middle;\n",
       "    }\n",
       "\n",
       "    .dataframe tbody tr th {\n",
       "        vertical-align: top;\n",
       "    }\n",
       "\n",
       "    .dataframe thead th {\n",
       "        text-align: right;\n",
       "    }\n",
       "</style>\n",
       "<table border=\"1\" class=\"dataframe\">\n",
       "  <thead>\n",
       "    <tr style=\"text-align: right;\">\n",
       "      <th></th>\n",
       "      <th>ID</th>\n",
       "      <th>label</th>\n",
       "      <th>statement</th>\n",
       "      <th>subject(s)</th>\n",
       "      <th>speaker</th>\n",
       "      <th>speaker title</th>\n",
       "      <th>state</th>\n",
       "      <th>party</th>\n",
       "      <th>barely true</th>\n",
       "      <th>false</th>\n",
       "      <th>half-true</th>\n",
       "      <th>mostly-true</th>\n",
       "      <th>pants on fire</th>\n",
       "      <th>context</th>\n",
       "    </tr>\n",
       "  </thead>\n",
       "  <tbody>\n",
       "    <tr>\n",
       "      <th>0</th>\n",
       "      <td>2635.json</td>\n",
       "      <td>false</td>\n",
       "      <td>Says the Annies List political group supports ...</td>\n",
       "      <td>abortion</td>\n",
       "      <td>dwayne-bohac</td>\n",
       "      <td>State representative</td>\n",
       "      <td>Texas</td>\n",
       "      <td>republican</td>\n",
       "      <td>0.0</td>\n",
       "      <td>1.0</td>\n",
       "      <td>0.0</td>\n",
       "      <td>0.0</td>\n",
       "      <td>0.0</td>\n",
       "      <td>a mailer</td>\n",
       "    </tr>\n",
       "    <tr>\n",
       "      <th>1</th>\n",
       "      <td>10540.json</td>\n",
       "      <td>half-true</td>\n",
       "      <td>When did the decline of coal start? It started...</td>\n",
       "      <td>energy,history,job-accomplishments</td>\n",
       "      <td>scott-surovell</td>\n",
       "      <td>State delegate</td>\n",
       "      <td>Virginia</td>\n",
       "      <td>democrat</td>\n",
       "      <td>0.0</td>\n",
       "      <td>0.0</td>\n",
       "      <td>1.0</td>\n",
       "      <td>1.0</td>\n",
       "      <td>0.0</td>\n",
       "      <td>a floor speech.</td>\n",
       "    </tr>\n",
       "    <tr>\n",
       "      <th>2</th>\n",
       "      <td>324.json</td>\n",
       "      <td>mostly-true</td>\n",
       "      <td>Hillary Clinton agrees with John McCain \"by vo...</td>\n",
       "      <td>foreign-policy</td>\n",
       "      <td>barack-obama</td>\n",
       "      <td>President</td>\n",
       "      <td>Illinois</td>\n",
       "      <td>democrat</td>\n",
       "      <td>70.0</td>\n",
       "      <td>71.0</td>\n",
       "      <td>160.0</td>\n",
       "      <td>163.0</td>\n",
       "      <td>9.0</td>\n",
       "      <td>Denver</td>\n",
       "    </tr>\n",
       "    <tr>\n",
       "      <th>3</th>\n",
       "      <td>1123.json</td>\n",
       "      <td>false</td>\n",
       "      <td>Health care reform legislation is likely to ma...</td>\n",
       "      <td>health-care</td>\n",
       "      <td>blog-posting</td>\n",
       "      <td>NaN</td>\n",
       "      <td>NaN</td>\n",
       "      <td>none</td>\n",
       "      <td>7.0</td>\n",
       "      <td>19.0</td>\n",
       "      <td>3.0</td>\n",
       "      <td>5.0</td>\n",
       "      <td>44.0</td>\n",
       "      <td>a news release</td>\n",
       "    </tr>\n",
       "    <tr>\n",
       "      <th>4</th>\n",
       "      <td>9028.json</td>\n",
       "      <td>half-true</td>\n",
       "      <td>The economic turnaround started at the end of ...</td>\n",
       "      <td>economy,jobs</td>\n",
       "      <td>charlie-crist</td>\n",
       "      <td>NaN</td>\n",
       "      <td>Florida</td>\n",
       "      <td>democrat</td>\n",
       "      <td>15.0</td>\n",
       "      <td>9.0</td>\n",
       "      <td>20.0</td>\n",
       "      <td>19.0</td>\n",
       "      <td>2.0</td>\n",
       "      <td>an interview on CNN</td>\n",
       "    </tr>\n",
       "  </tbody>\n",
       "</table>\n",
       "</div>"
      ],
      "text/plain": [
       "           ID        label                                          statement  \\\n",
       "0   2635.json        false  Says the Annies List political group supports ...   \n",
       "1  10540.json    half-true  When did the decline of coal start? It started...   \n",
       "2    324.json  mostly-true  Hillary Clinton agrees with John McCain \"by vo...   \n",
       "3   1123.json        false  Health care reform legislation is likely to ma...   \n",
       "4   9028.json    half-true  The economic turnaround started at the end of ...   \n",
       "\n",
       "                           subject(s)         speaker         speaker title  \\\n",
       "0                            abortion    dwayne-bohac  State representative   \n",
       "1  energy,history,job-accomplishments  scott-surovell        State delegate   \n",
       "2                      foreign-policy    barack-obama             President   \n",
       "3                         health-care    blog-posting                   NaN   \n",
       "4                        economy,jobs   charlie-crist                   NaN   \n",
       "\n",
       "      state       party  barely true  false  half-true  mostly-true  \\\n",
       "0     Texas  republican          0.0    1.0        0.0          0.0   \n",
       "1  Virginia    democrat          0.0    0.0        1.0          1.0   \n",
       "2  Illinois    democrat         70.0   71.0      160.0        163.0   \n",
       "3       NaN        none          7.0   19.0        3.0          5.0   \n",
       "4   Florida    democrat         15.0    9.0       20.0         19.0   \n",
       "\n",
       "   pants on fire              context  \n",
       "0            0.0             a mailer  \n",
       "1            0.0      a floor speech.  \n",
       "2            9.0               Denver  \n",
       "3           44.0       a news release  \n",
       "4            2.0  an interview on CNN  "
      ]
     },
     "execution_count": 2,
     "metadata": {},
     "output_type": "execute_result"
    }
   ],
   "source": [
    "train_url = 'https://raw.githubusercontent.com/NishantDate/ML_final_project/main/train.tsv'\n",
    "test_url = 'https://raw.githubusercontent.com/NishantDate/ML_final_project/main/test.tsv'\n",
    "valid_url = 'https://raw.githubusercontent.com/NishantDate/ML_final_project/main/valid.tsv'\n",
    "names = ['ID', 'label', 'statement', 'subject(s)', 'speaker', 'speaker title', 'state', 'party', 'barely true', 'false', 'half-true', 'mostly-true', 'pants on fire', 'context']\n",
    "\n",
    "train = pd.read_csv(train_url, sep='\\t', names = names )\n",
    "test = pd.read_csv(test_url, sep='\\t', names = names)\n",
    "valid = pd.read_csv(valid_url, sep='\\t',names = names)\n",
    "\n",
    "train.head()"
   ]
  },
  {
   "cell_type": "code",
   "execution_count": 3,
   "id": "amended-uruguay",
   "metadata": {},
   "outputs": [],
   "source": [
    "#encoding labels\n",
    "#encoding labels\n",
    "true_dict = {'pants-fire':0, 'false':0,'barely-true':0, 'half-true':1, 'mostly-true':1, 'true':1}\n",
    "\n",
    "train['label'] = train['label'].apply(lambda x: true_dict[x] if x in true_dict.keys() else np.nan)\n",
    "valid['label'] = valid['label'].apply(lambda x: true_dict[x] if x in true_dict.keys() else np.nan)\n",
    "test['label'] = test['label'].apply(lambda x: true_dict[x] if x in true_dict.keys() else np.nan)\n",
    "\n"
   ]
  },
  {
   "cell_type": "code",
   "execution_count": 4,
   "id": "fitting-arbitration",
   "metadata": {},
   "outputs": [
    {
     "name": "stderr",
     "output_type": "stream",
     "text": [
      "<ipython-input-4-41c578b737e0>:8: RuntimeWarning: invalid value encountered in double_scalars\n",
      "  score = truths / total #probability that the speaker will tell the truth\n",
      "<ipython-input-4-41c578b737e0>:8: RuntimeWarning: invalid value encountered in long_scalars\n",
      "  score = truths / total #probability that the speaker will tell the truth\n"
     ]
    }
   ],
   "source": [
    "scaler = MinMaxScaler()\n",
    "\n",
    "def generate_truth(barely_true, false, half_true, mostly_true, pants_on_fire):\n",
    "  #generates the probability of the speaker telling the truth\n",
    "  arr = np.array([barely_true, false, half_true, mostly_true, pants_on_fire])\n",
    "  truths = barely_true + half_true + mostly_true\n",
    "  total = sum(arr)\n",
    "  score = truths / total #probability that the speaker will tell the truth\n",
    "  return score\n",
    "\n",
    "train['truth_score'] = train.apply(lambda x: generate_truth(x['barely true'],x['false'], x['half-true'], x['mostly-true'], x['pants on fire']), axis = 1)\n",
    "#train[['truth_score']] = scaler.fit_transform(train[['truth_score']])\n",
    "test['truth_score'] = test.apply(lambda x: generate_truth(x['barely true'],x['false'], x['half-true'], x['mostly-true'], x['pants on fire']), axis = 1)\n",
    "#test[['truth_score']] = scaler.fit_transform(test[['truth_score']])\n",
    "valid['truth_score'] = valid.apply(lambda x: generate_truth(x['barely true'],x['false'], x['half-true'], x['mostly-true'], x['pants on fire']), axis = 1)\n",
    "#valid[['truth_score']] = scaler.fit_transform(valid[['truth_score']])"
   ]
  },
  {
   "cell_type": "code",
   "execution_count": 5,
   "id": "published-wagner",
   "metadata": {},
   "outputs": [],
   "source": [
    "#Encoding parties -- republican: 0 , democrat: 1, Other:2\n",
    "\n",
    "true_dict_party = {'republican':0, 'democrat': 1, 'other': 2 }\n",
    "train['party'] = train['party'].apply(lambda x: true_dict_party[x] if x in true_dict_party.keys() else true_dict_party['other'])\n",
    "valid['party'] = valid['party'].apply(lambda x: true_dict_party[x] if x in true_dict_party.keys() else true_dict_party['other'])\n",
    "test['party'] = test['party'].apply(lambda x: true_dict_party[x] if x in true_dict_party.keys() else true_dict_party['other'])\n"
   ]
  },
  {
   "cell_type": "code",
   "execution_count": 6,
   "id": "determined-practitioner",
   "metadata": {
    "tags": []
   },
   "outputs": [],
   "source": [
    "number = LabelEncoder()\n",
    "train['state'] = number.fit_transform(train['state'].astype('str'))\n",
    "test['state'] = number.fit_transform(test['state'].astype('str'))\n",
    "valid['state'] = number.fit_transform(valid['state'].astype('str'))                                   "
   ]
  },
  {
   "cell_type": "code",
   "execution_count": 7,
   "id": "coral-planning",
   "metadata": {},
   "outputs": [
    {
     "data": {
      "text/html": [
       "<div>\n",
       "<style scoped>\n",
       "    .dataframe tbody tr th:only-of-type {\n",
       "        vertical-align: middle;\n",
       "    }\n",
       "\n",
       "    .dataframe tbody tr th {\n",
       "        vertical-align: top;\n",
       "    }\n",
       "\n",
       "    .dataframe thead th {\n",
       "        text-align: right;\n",
       "    }\n",
       "</style>\n",
       "<table border=\"1\" class=\"dataframe\">\n",
       "  <thead>\n",
       "    <tr style=\"text-align: right;\">\n",
       "      <th></th>\n",
       "      <th>ID</th>\n",
       "      <th>label</th>\n",
       "      <th>statement</th>\n",
       "      <th>subject(s)</th>\n",
       "      <th>speaker</th>\n",
       "      <th>speaker title</th>\n",
       "      <th>state</th>\n",
       "      <th>party</th>\n",
       "      <th>barely true</th>\n",
       "      <th>false</th>\n",
       "      <th>half-true</th>\n",
       "      <th>mostly-true</th>\n",
       "      <th>pants on fire</th>\n",
       "      <th>context</th>\n",
       "      <th>truth_score</th>\n",
       "    </tr>\n",
       "  </thead>\n",
       "  <tbody>\n",
       "    <tr>\n",
       "      <th>0</th>\n",
       "      <td>12134.json</td>\n",
       "      <td>0</td>\n",
       "      <td>We have less Americans working now than in the...</td>\n",
       "      <td>economy,jobs</td>\n",
       "      <td>vicky-hartzler</td>\n",
       "      <td>U.S. Representative</td>\n",
       "      <td>22</td>\n",
       "      <td>0</td>\n",
       "      <td>1</td>\n",
       "      <td>0</td>\n",
       "      <td>1</td>\n",
       "      <td>0</td>\n",
       "      <td>0</td>\n",
       "      <td>an interview with ABC17 News</td>\n",
       "      <td>1.000000</td>\n",
       "    </tr>\n",
       "    <tr>\n",
       "      <th>2</th>\n",
       "      <td>7891.json</td>\n",
       "      <td>0</td>\n",
       "      <td>Says Having organizations parading as being so...</td>\n",
       "      <td>campaign-finance,congress,taxes</td>\n",
       "      <td>earl-blumenauer</td>\n",
       "      <td>U.S. representative</td>\n",
       "      <td>32</td>\n",
       "      <td>1</td>\n",
       "      <td>0</td>\n",
       "      <td>1</td>\n",
       "      <td>1</td>\n",
       "      <td>1</td>\n",
       "      <td>0</td>\n",
       "      <td>a U.S. Ways and Means hearing</td>\n",
       "      <td>0.666667</td>\n",
       "    </tr>\n",
       "    <tr>\n",
       "      <th>3</th>\n",
       "      <td>8169.json</td>\n",
       "      <td>1</td>\n",
       "      <td>Says nearly half of Oregons children are poor.</td>\n",
       "      <td>poverty</td>\n",
       "      <td>jim-francesconi</td>\n",
       "      <td>Member of the State Board of Higher Education</td>\n",
       "      <td>32</td>\n",
       "      <td>2</td>\n",
       "      <td>0</td>\n",
       "      <td>1</td>\n",
       "      <td>1</td>\n",
       "      <td>1</td>\n",
       "      <td>0</td>\n",
       "      <td>an opinion article</td>\n",
       "      <td>0.666667</td>\n",
       "    </tr>\n",
       "    <tr>\n",
       "      <th>4</th>\n",
       "      <td>929.json</td>\n",
       "      <td>1</td>\n",
       "      <td>On attacks by Republicans that various program...</td>\n",
       "      <td>economy,stimulus</td>\n",
       "      <td>barack-obama</td>\n",
       "      <td>President</td>\n",
       "      <td>12</td>\n",
       "      <td>1</td>\n",
       "      <td>70</td>\n",
       "      <td>71</td>\n",
       "      <td>160</td>\n",
       "      <td>163</td>\n",
       "      <td>9</td>\n",
       "      <td>interview with CBS News</td>\n",
       "      <td>0.830867</td>\n",
       "    </tr>\n",
       "    <tr>\n",
       "      <th>5</th>\n",
       "      <td>9416.json</td>\n",
       "      <td>0</td>\n",
       "      <td>Says when armed civilians stop mass shootings ...</td>\n",
       "      <td>guns</td>\n",
       "      <td>jim-rubens</td>\n",
       "      <td>Small business owner</td>\n",
       "      <td>24</td>\n",
       "      <td>0</td>\n",
       "      <td>1</td>\n",
       "      <td>1</td>\n",
       "      <td>0</td>\n",
       "      <td>1</td>\n",
       "      <td>0</td>\n",
       "      <td>in an interview at gun shop in Hudson, N.H.</td>\n",
       "      <td>0.666667</td>\n",
       "    </tr>\n",
       "    <tr>\n",
       "      <th>...</th>\n",
       "      <td>...</td>\n",
       "      <td>...</td>\n",
       "      <td>...</td>\n",
       "      <td>...</td>\n",
       "      <td>...</td>\n",
       "      <td>...</td>\n",
       "      <td>...</td>\n",
       "      <td>...</td>\n",
       "      <td>...</td>\n",
       "      <td>...</td>\n",
       "      <td>...</td>\n",
       "      <td>...</td>\n",
       "      <td>...</td>\n",
       "      <td>...</td>\n",
       "      <td>...</td>\n",
       "    </tr>\n",
       "    <tr>\n",
       "      <th>1276</th>\n",
       "      <td>7013.json</td>\n",
       "      <td>0</td>\n",
       "      <td>Says U.S. Rep. Charles Bass wants to privatize...</td>\n",
       "      <td>social-security</td>\n",
       "      <td>ann-mclane-kuster</td>\n",
       "      <td>Attorney</td>\n",
       "      <td>24</td>\n",
       "      <td>1</td>\n",
       "      <td>2</td>\n",
       "      <td>1</td>\n",
       "      <td>3</td>\n",
       "      <td>0</td>\n",
       "      <td>0</td>\n",
       "      <td>an ad, “Janice,” released September 6, 2012</td>\n",
       "      <td>0.833333</td>\n",
       "    </tr>\n",
       "    <tr>\n",
       "      <th>1278</th>\n",
       "      <td>2661.json</td>\n",
       "      <td>0</td>\n",
       "      <td>In the past two years, Democrats have spent mo...</td>\n",
       "      <td>federal-budget,history</td>\n",
       "      <td>eric-cantor</td>\n",
       "      <td>House Majority Leader</td>\n",
       "      <td>41</td>\n",
       "      <td>0</td>\n",
       "      <td>9</td>\n",
       "      <td>6</td>\n",
       "      <td>4</td>\n",
       "      <td>4</td>\n",
       "      <td>4</td>\n",
       "      <td>an interview on Comedy Central's Daily Show wi...</td>\n",
       "      <td>0.629630</td>\n",
       "    </tr>\n",
       "    <tr>\n",
       "      <th>1279</th>\n",
       "      <td>3419.json</td>\n",
       "      <td>1</td>\n",
       "      <td>For the first time in more than a decade, impo...</td>\n",
       "      <td>energy,oil-spill,trade</td>\n",
       "      <td>barack-obama</td>\n",
       "      <td>President</td>\n",
       "      <td>12</td>\n",
       "      <td>1</td>\n",
       "      <td>70</td>\n",
       "      <td>71</td>\n",
       "      <td>160</td>\n",
       "      <td>163</td>\n",
       "      <td>9</td>\n",
       "      <td>a press conference</td>\n",
       "      <td>0.830867</td>\n",
       "    </tr>\n",
       "    <tr>\n",
       "      <th>1280</th>\n",
       "      <td>12548.json</td>\n",
       "      <td>1</td>\n",
       "      <td>Says Donald Trump has bankrupted his companies...</td>\n",
       "      <td>candidates-biography</td>\n",
       "      <td>hillary-clinton</td>\n",
       "      <td>Presidential candidate</td>\n",
       "      <td>27</td>\n",
       "      <td>1</td>\n",
       "      <td>40</td>\n",
       "      <td>29</td>\n",
       "      <td>69</td>\n",
       "      <td>76</td>\n",
       "      <td>7</td>\n",
       "      <td>a speech on the economy</td>\n",
       "      <td>0.837104</td>\n",
       "    </tr>\n",
       "    <tr>\n",
       "      <th>1283</th>\n",
       "      <td>9117.json</td>\n",
       "      <td>0</td>\n",
       "      <td>No one claims the report vindicating New Jerse...</td>\n",
       "      <td>candidates-biography,infrastructure</td>\n",
       "      <td>rudy-giuliani</td>\n",
       "      <td>Attorney</td>\n",
       "      <td>27</td>\n",
       "      <td>0</td>\n",
       "      <td>9</td>\n",
       "      <td>11</td>\n",
       "      <td>10</td>\n",
       "      <td>7</td>\n",
       "      <td>3</td>\n",
       "      <td>comments on NBC's \"Meet the Press\"</td>\n",
       "      <td>0.650000</td>\n",
       "    </tr>\n",
       "  </tbody>\n",
       "</table>\n",
       "<p>910 rows × 15 columns</p>\n",
       "</div>"
      ],
      "text/plain": [
       "              ID  label                                          statement  \\\n",
       "0     12134.json      0  We have less Americans working now than in the...   \n",
       "2      7891.json      0  Says Having organizations parading as being so...   \n",
       "3      8169.json      1     Says nearly half of Oregons children are poor.   \n",
       "4       929.json      1  On attacks by Republicans that various program...   \n",
       "5      9416.json      0  Says when armed civilians stop mass shootings ...   \n",
       "...          ...    ...                                                ...   \n",
       "1276   7013.json      0  Says U.S. Rep. Charles Bass wants to privatize...   \n",
       "1278   2661.json      0  In the past two years, Democrats have spent mo...   \n",
       "1279   3419.json      1  For the first time in more than a decade, impo...   \n",
       "1280  12548.json      1  Says Donald Trump has bankrupted his companies...   \n",
       "1283   9117.json      0  No one claims the report vindicating New Jerse...   \n",
       "\n",
       "                               subject(s)            speaker  \\\n",
       "0                            economy,jobs     vicky-hartzler   \n",
       "2         campaign-finance,congress,taxes    earl-blumenauer   \n",
       "3                                 poverty    jim-francesconi   \n",
       "4                        economy,stimulus       barack-obama   \n",
       "5                                    guns         jim-rubens   \n",
       "...                                   ...                ...   \n",
       "1276                      social-security  ann-mclane-kuster   \n",
       "1278               federal-budget,history        eric-cantor   \n",
       "1279               energy,oil-spill,trade       barack-obama   \n",
       "1280                 candidates-biography    hillary-clinton   \n",
       "1283  candidates-biography,infrastructure      rudy-giuliani   \n",
       "\n",
       "                                      speaker title  state  party  \\\n",
       "0                               U.S. Representative     22      0   \n",
       "2                               U.S. representative     32      1   \n",
       "3     Member of the State Board of Higher Education     32      2   \n",
       "4                                         President     12      1   \n",
       "5                              Small business owner     24      0   \n",
       "...                                             ...    ...    ...   \n",
       "1276                                       Attorney     24      1   \n",
       "1278                          House Majority Leader     41      0   \n",
       "1279                                      President     12      1   \n",
       "1280                         Presidential candidate     27      1   \n",
       "1283                                       Attorney     27      0   \n",
       "\n",
       "      barely true  false  half-true  mostly-true  pants on fire  \\\n",
       "0               1      0          1            0              0   \n",
       "2               0      1          1            1              0   \n",
       "3               0      1          1            1              0   \n",
       "4              70     71        160          163              9   \n",
       "5               1      1          0            1              0   \n",
       "...           ...    ...        ...          ...            ...   \n",
       "1276            2      1          3            0              0   \n",
       "1278            9      6          4            4              4   \n",
       "1279           70     71        160          163              9   \n",
       "1280           40     29         69           76              7   \n",
       "1283            9     11         10            7              3   \n",
       "\n",
       "                                                context  truth_score  \n",
       "0                          an interview with ABC17 News     1.000000  \n",
       "2                         a U.S. Ways and Means hearing     0.666667  \n",
       "3                                    an opinion article     0.666667  \n",
       "4                               interview with CBS News     0.830867  \n",
       "5           in an interview at gun shop in Hudson, N.H.     0.666667  \n",
       "...                                                 ...          ...  \n",
       "1276        an ad, “Janice,” released September 6, 2012     0.833333  \n",
       "1278  an interview on Comedy Central's Daily Show wi...     0.629630  \n",
       "1279                                 a press conference     0.830867  \n",
       "1280                            a speech on the economy     0.837104  \n",
       "1283                 comments on NBC's \"Meet the Press\"     0.650000  \n",
       "\n",
       "[910 rows x 15 columns]"
      ]
     },
     "execution_count": 7,
     "metadata": {},
     "output_type": "execute_result"
    }
   ],
   "source": [
    "train.dropna()\n",
    "test.dropna()\n",
    "valid.dropna()"
   ]
  },
  {
   "cell_type": "code",
   "execution_count": 8,
   "id": "positive-deployment",
   "metadata": {
    "tags": []
   },
   "outputs": [],
   "source": [
    "#Do this with test train split \n",
    "\n",
    "#Normalize -- the occurences \n",
    "#Sentiment analysis on Statement\n",
    "#Bag of words\n",
    "\n",
    "X_train = train[['party', 'state', 'truth_score']]\n",
    "Y_train = train['label']\n",
    "X_test = test[['party', 'state', 'truth_score']]\n",
    "Y_test = test['label']\n",
    "\n",
    "X_train = X_train.fillna(value = X_train.mean())\n",
    "Y_train = Y_train.fillna(value = Y_train.mean())\n",
    "X_test = X_test.fillna(value = X_test.mean())\n",
    "Y_test = Y_test.fillna(value = Y_test.mean())\n"
   ]
  },
  {
   "cell_type": "code",
   "execution_count": 9,
   "id": "mobile-batch",
   "metadata": {
    "tags": []
   },
   "outputs": [],
   "source": [
    "# Initialize an empty list to store values of test set accuracy.\n",
    "acc_test = []\n",
    "acc_train_logreg = []\n",
    "acc_test_logreg = []"
   ]
  },
  {
   "cell_type": "code",
   "execution_count": 10,
   "id": "hired-polyester",
   "metadata": {
    "tags": []
   },
   "outputs": [],
   "source": [
    "# Initialize an empty list to store different values of parameter 'c'.\n",
    "c_logreg = []"
   ]
  },
  {
   "cell_type": "code",
   "execution_count": 25,
   "id": "european-colony",
   "metadata": {
    "tags": []
   },
   "outputs": [
    {
     "name": "stdout",
     "output_type": "stream",
     "text": [
      "Accuracy on test data = 0.561719\n",
      "Accuracy on test data = 0.000000\n"
     ]
    }
   ],
   "source": [
    "baseline_test = []\n",
    "\n",
    "def base_line_median(Y_train):\n",
    "    #print(\"BASELINE FUNCTION\")\n",
    "    return np.median(Y_train)\n",
    "def base_line_mean(Y_train):\n",
    "    return np.mean(Y_train)\n",
    "def base_line_median_accuracy(X_train, Y_train, X_test, Y_test):\n",
    "    Y_hat_train = np.array([])\n",
    "    for Y in Y_train:\n",
    "        Y_hat_train = np.append(Y_hat_train,base_line_median(Y_train))\n",
    "        \n",
    "    baseline_train = np.mean(Y_hat_train == Y_train)\n",
    "    baseline_test.append(acc_test)\n",
    "    print(\"Accuracy on test data = %f\" % baseline_train)\n",
    "    \n",
    "def base_line_mean_accuracy(X_train, Y_train, X_test, Y_test):\n",
    "    Y_hat_train = np.array([])\n",
    "    for Y in Y_train:\n",
    "        Y_hat_train = np.append(Y_hat_train,base_line_mean(Y_train))\n",
    "        \n",
    "    baseline_train = np.mean(Y_hat_train-Y_train)\n",
    "    baseline_test.append(baseline_train)\n",
    "    print(\"Accuracy on test data = %f\" % baseline_train)\n",
    "\n",
    "base_line_median_accuracy(X_train, Y_train, X_test, Y_test)\n",
    "base_line_mean_accuracy(X_train, Y_train, X_test, Y_test)\n"
   ]
  },
  {
   "cell_type": "code",
   "execution_count": 12,
   "id": "checked-western",
   "metadata": {
    "tags": []
   },
   "outputs": [],
   "source": [
    "# Complete the function logreg that accepts 'c' as a parameter, which is used to create logreg model \n",
    "# with different values of C.\n",
    "from sklearn import linear_model\n",
    "def logreg_model(c , X_train, Y_train, X_test, Y_test):\n",
    "    # Create an object of logistic regression model using linear_model.\n",
    "    # Pass the value of penalty as 'L1'. By default, it is 'L2'.\n",
    "    # Pass the value of C = c. Note that C is the inverse of lambda. So, small value of C i.e. b/w 0 and 1 \n",
    "    # means stronger regularization and large value means less regularization.\n",
    "    # Also, in sklearn, L1 is only supported with solver = 'saga'. Solver is the type of optimization algorithm like GDA or\n",
    "    # SGDA, which is to be used. So, 'saga' is another algorithm like that. Pass the value of solver as 'saga'\n",
    "\n",
    "    # TODO - Create the Logistic Regression model object as described above and save it to logreg - 5 points\n",
    "    logreg = linear_model.LogisticRegression(C=c,penalty='l1', warm_start=True, solver='saga')\n",
    "    \n",
    "    # TODO - Fit the model on the training set - 5 points\n",
    "    logreg.fit(X_train, Y_train)\n",
    "    \n",
    "    # TODO - Find the prediction on training set - 5 points\n",
    "    Yhat_train = logreg.predict(X_train)\n",
    "    \n",
    "    # Adding training accuracy to acc_train_logreg\n",
    "    acc_train = np.mean(Yhat_train == Y_train)\n",
    "    acc_train_logreg.append(acc_train)\n",
    "    print(\"Accuracy on training data = %f\" % acc_train)\n",
    "    \n",
    "    # TODO - Find the prediction on test set - 5 points\n",
    "    Yhat_test = logreg.predict(X_test)\n",
    "    \n",
    "    # Adding testing accuracy to acc_test_logreg\n",
    "    acc_test = np.mean(Yhat_test == Y_test)\n",
    "    acc_test_logreg.append(acc_test)\n",
    "    print(\"Accuracy on test data = %f\" % acc_test)\n",
    "    \n",
    "    # Appending value of c for graphing purposes\n",
    "    c_logreg.append(c)"
   ]
  },
  {
   "cell_type": "code",
   "execution_count": 13,
   "id": "compact-spirituality",
   "metadata": {},
   "outputs": [
    {
     "name": "stdout",
     "output_type": "stream",
     "text": [
      "Accuracy on training data = 0.561719\n",
      "Accuracy on test data = 0.563536\n",
      "Accuracy on training data = 0.561719\n",
      "Accuracy on test data = 0.563536\n",
      "Accuracy on training data = 0.684961\n",
      "Accuracy on test data = 0.694554\n"
     ]
    },
    {
     "name": "stderr",
     "output_type": "stream",
     "text": [
      "/usr/local/lib/python3.9/site-packages/sklearn/linear_model/_sag.py:328: ConvergenceWarning: The max_iter was reached which means the coef_ did not converge\n",
      "  warnings.warn(\"The max_iter was reached which means \"\n",
      "/usr/local/lib/python3.9/site-packages/sklearn/linear_model/_sag.py:328: ConvergenceWarning: The max_iter was reached which means the coef_ did not converge\n",
      "  warnings.warn(\"The max_iter was reached which means \"\n"
     ]
    },
    {
     "name": "stdout",
     "output_type": "stream",
     "text": [
      "Accuracy on training data = 0.687695\n",
      "Accuracy on test data = 0.697711\n",
      "Accuracy on training data = 0.687402\n",
      "Accuracy on test data = 0.696922\n"
     ]
    },
    {
     "name": "stderr",
     "output_type": "stream",
     "text": [
      "/usr/local/lib/python3.9/site-packages/sklearn/linear_model/_sag.py:328: ConvergenceWarning: The max_iter was reached which means the coef_ did not converge\n",
      "  warnings.warn(\"The max_iter was reached which means \"\n"
     ]
    }
   ],
   "source": [
    "cVals = [0.0001, 0.001, 0.01, 0.1, 1]\n",
    "for c in cVals:\n",
    "    logreg_model(c, X_train.fillna(value = X_train.mean()), Y_train.fillna(value = Y_train.mean()), \n",
    "                 X_test.fillna(value = X_test.mean()), Y_test.fillna(value =Y_test.mean()))"
   ]
  },
  {
   "cell_type": "code",
   "execution_count": 14,
   "id": "comfortable-blackberry",
   "metadata": {},
   "outputs": [
    {
     "name": "stdout",
     "output_type": "stream",
     "text": [
      "Accuracy on training data = 0.561719\n",
      "Accuracy on test data = 0.563536\n"
     ]
    },
    {
     "name": "stderr",
     "output_type": "stream",
     "text": [
      "/usr/local/lib/python3.9/site-packages/sklearn/linear_model/_sag.py:328: ConvergenceWarning: The max_iter was reached which means the coef_ did not converge\n",
      "  warnings.warn(\"The max_iter was reached which means \"\n"
     ]
    },
    {
     "name": "stdout",
     "output_type": "stream",
     "text": [
      "Accuracy on training data = 0.561719\n",
      "Accuracy on test data = 0.563536\n",
      "Accuracy on training data = 0.684961\n",
      "Accuracy on test data = 0.694554\n"
     ]
    },
    {
     "name": "stderr",
     "output_type": "stream",
     "text": [
      "/usr/local/lib/python3.9/site-packages/sklearn/linear_model/_sag.py:328: ConvergenceWarning: The max_iter was reached which means the coef_ did not converge\n",
      "  warnings.warn(\"The max_iter was reached which means \"\n",
      "/usr/local/lib/python3.9/site-packages/sklearn/linear_model/_sag.py:328: ConvergenceWarning: The max_iter was reached which means the coef_ did not converge\n",
      "  warnings.warn(\"The max_iter was reached which means \"\n"
     ]
    },
    {
     "name": "stdout",
     "output_type": "stream",
     "text": [
      "Accuracy on training data = 0.687695\n",
      "Accuracy on test data = 0.697711\n",
      "Accuracy on training data = 0.687402\n",
      "Accuracy on test data = 0.696133\n"
     ]
    },
    {
     "data": {
      "image/png": "[encoded data removed]",
      "text/plain": [
       "<Figure size 432x288 with 1 Axes>"
      ]
     },
     "metadata": {
      "needs_background": "light"
     },
     "output_type": "display_data"
    }
   ],
   "source": [
    "acc_train_logreg = []\n",
    "acc_test_logreg = []\n",
    "c_logreg = []\n",
    "cVals = [0.0001, 0.001, 0.01, 0.1, 1]\n",
    "for c in cVals:\n",
    "    logreg_model(c, X_train, Y_train, X_test, Y_test)\n",
    "plt.plot(c_logreg, acc_train_logreg, 'ro-') \n",
    "plt.plot(c_logreg, acc_test_logreg,'bo-') \n",
    "plt.grid()\n",
    "\n"
   ]
  },
  {
   "cell_type": "code",
   "execution_count": null,
   "id": "seventh-singles",
   "metadata": {},
   "outputs": [],
   "source": [
    "#Polynomial Fit Transformation: L1\n",
    "\n",
    "poly = PolynomialFeatures(degree =3)\n",
    "X_transformed_train = poly.fit_transform(X_train)\n",
    "X_transformed_test = poly.fit_transform(X_test)\n",
    "acc_train_logreg = []\n",
    "acc_test_logreg = []\n",
    "c_logreg = []\n",
    "\n",
    "for c in cVals:\n",
    "    logreg_model(c, X_transformed_train, Y_train, X_transformed_test, Y_test)\n",
    "\n",
    "\n",
    "plt.plot(c_logreg, acc_train_logreg, 'ro-') \n",
    "plt.plot(c_logreg, acc_test_logreg,'bo-') \n",
    "plt.grid()\n",
    "plt.title(\"Accuracy vs. C: L1 Regularization with Polynomial Feature Transformation\")\n",
    "plt.legend(['Training Accuracy', 'Test Accuracy'], loc='upper right')"
   ]
  },
  {
   "cell_type": "code",
   "execution_count": 15,
   "id": "reasonable-jenny",
   "metadata": {
    "tags": []
   },
   "outputs": [],
   "source": [
    "# Initialize an empty list to store values of training set accuracy.\n",
    "acc_train_logreg2 = []"
   ]
  },
  {
   "cell_type": "code",
   "execution_count": 16,
   "id": "chubby-electric",
   "metadata": {
    "tags": []
   },
   "outputs": [],
   "source": [
    "# Initialize an empty list to store values of test set accuracy.\n",
    "acc_test_logreg2 = []"
   ]
  },
  {
   "cell_type": "code",
   "execution_count": 17,
   "id": "sticky-setting",
   "metadata": {
    "tags": []
   },
   "outputs": [],
   "source": [
    "# Initialize an empty list to store different values of parameter 'c'.\n",
    "c_logreg2 = []"
   ]
  },
  {
   "cell_type": "code",
   "execution_count": 18,
   "id": "sharp-walker",
   "metadata": {
    "tags": []
   },
   "outputs": [],
   "source": [
    "def logreg2_model(c , X_train, Y_train, X_test, Y_test):\n",
    "    # Create an object of logistic regression model using linear_model.\n",
    "    # Pass the value of C=c.\n",
    "    # You need not pass other parameters as penalty is 'L2' by default.\n",
    "    \n",
    "    # TODO - Create the Logistic Regression model object as described above and save it to logreg2 - 5 points\n",
    "    logreg2 = linear_model.LogisticRegression(C=c, warm_start=True)\n",
    "\n",
    "    \n",
    "    # TODO - Fit the model on the training set - 5 points\n",
    "\n",
    "    logreg2.fit(X_train, Y_train)\n",
    "\n",
    "    # TODO - Find the prediction on training set - 5 points\n",
    "    Yhat_train = logreg2.predict(X_train)\n",
    "    \n",
    "    # Adding training accuracy to acc_train_logreg2\n",
    "    \n",
    "    acc_train = np.mean(Yhat_train == Y_train)\n",
    "    acc_train_logreg2.append(acc_train)\n",
    "    print(\"Accuracy on training data = %f\" % acc_train)\n",
    "    \n",
    "    # TODO - Find the prediction on test set - 5 points\n",
    "    Yhat_test = logreg2.predict(X_test)\n",
    "    \n",
    "    # Adding testing accuracy to acc_test_logreg2\n",
    "    acc_test = np.mean(Yhat_test == Y_test)\n",
    "    acc_test_logreg2.append(acc_test)\n",
    "    print(\"Accuracy on test data = %f\" % acc_test)\n",
    "    \n",
    "    # Appending value of c for graphing purposes\n",
    "    c_logreg2.append(c)\n",
    "    \n",
    "\n",
    "    \n",
    "    "
   ]
  },
  {
   "cell_type": "code",
   "execution_count": 19,
   "id": "going-rehabilitation",
   "metadata": {},
   "outputs": [
    {
     "name": "stdout",
     "output_type": "stream",
     "text": [
      "Accuracy on training data = 0.566211\n",
      "Accuracy on test data = 0.563536\n",
      "Accuracy on training data = 0.631250\n",
      "Accuracy on test data = 0.570639\n",
      "Accuracy on training data = 0.687500\n",
      "Accuracy on test data = 0.683504\n",
      "Accuracy on training data = 0.687109\n",
      "Accuracy on test data = 0.698500\n",
      "Accuracy on training data = 0.687598\n",
      "Accuracy on test data = 0.700079\n"
     ]
    }
   ],
   "source": [
    "# Call the above function i.e. logreg_model with different values of parameter 'c'.\n",
    "# Start with smaller values of 'c' say 0.0001, 0.001, 0.01, 0.1, 1, 10, 100\n",
    "for c in cVals:\n",
    "    logreg2_model(c, X_train, Y_train, X_test, Y_test)"
   ]
  },
  {
   "cell_type": "code",
   "execution_count": 20,
   "id": "proof-trouble",
   "metadata": {},
   "outputs": [
    {
     "name": "stdout",
     "output_type": "stream",
     "text": [
      "Accuracy on training data = 0.566211\n",
      "Accuracy on test data = 0.563536\n",
      "Accuracy on training data = 0.631250\n",
      "Accuracy on test data = 0.570639\n",
      "Accuracy on training data = 0.687500\n",
      "Accuracy on test data = 0.683504\n",
      "Accuracy on training data = 0.687109\n",
      "Accuracy on test data = 0.698500\n",
      "Accuracy on training data = 0.687598\n",
      "Accuracy on test data = 0.700079\n"
     ]
    },
    {
     "data": {
      "text/plain": [
       "<matplotlib.legend.Legend at 0x1492e9ee0>"
      ]
     },
     "execution_count": 20,
     "metadata": {},
     "output_type": "execute_result"
    },
    {
     "data": {
      "image/png": "[encoded data removed]",
      "text/plain": [
       "<Figure size 432x288 with 1 Axes>"
      ]
     },
     "metadata": {
      "needs_background": "light"
     },
     "output_type": "display_data"
    }
   ],
   "source": [
    "# TODO - Write code to plot 2 plots - 10 points\n",
    "# Plot training accuracy(Y-axis) v/s 'c' on X - Axis.\n",
    "# Plot test accuracy(Y-Axis) v/s 'c' on X - Axis.\n",
    "\n",
    "# IMP - Make sure you reinitialize c_logreg2, acc_train_logreg2 and acc_test_logreg2 before rerunning logreg2_model()\n",
    "acc_train_logreg2 = []\n",
    "acc_test_logreg2 = []\n",
    "c_logreg2 = []\n",
    "for c in cVals:\n",
    "    logreg2_model(c, X_train, Y_train, X_test, Y_test)\n",
    "plt.plot(c_logreg2, acc_train_logreg2, 'ro-') \n",
    "plt.plot(c_logreg2, acc_test_logreg2,'bo-') \n",
    "plt.grid()\n",
    "# Use the following function to have a legend\n",
    "plt.legend(['Training Accuracy', 'Test Accuracy'], loc='upper right')"
   ]
  },
  {
   "cell_type": "code",
   "execution_count": 21,
   "id": "cardiovascular-headset",
   "metadata": {},
   "outputs": [
    {
     "name": "stdout",
     "output_type": "stream",
     "text": [
      "(10240,)\n",
      "Starting gradient descent for 1000 iterations\n",
      "Iteration 0 of 1000\n"
     ]
    },
    {
     "name": "stderr",
     "output_type": "stream",
     "text": [
      "<ipython-input-21-312529043eba>:69: FutureWarning: Support for multi-dimensional indexing (e.g. `obj[:, None]`) is deprecated and will be removed in a future version.  Convert to a numpy array before indexing instead.\n",
      "  tri_W[l] += np.dot(delta[l+1][:,np.newaxis], np.transpose(a[l][:,np.newaxis]))\n"
     ]
    },
    {
     "name": "stdout",
     "output_type": "stream",
     "text": [
      "Iteration 100 of 1000\n",
      "Iteration 200 of 1000\n",
      "Iteration 300 of 1000\n",
      "Iteration 400 of 1000\n",
      "Iteration 500 of 1000\n",
      "Iteration 600 of 1000\n",
      "Iteration 700 of 1000\n",
      "Iteration 800 of 1000\n",
      "Iteration 900 of 1000\n"
     ]
    }
   ],
   "source": [
    "from sklearn.preprocessing import StandardScaler  # It is important in neural networks to scale the date\n",
    "from sklearn.model_selection import train_test_split  # The standard - train/test to prevent overfitting and choose hyperparameters\n",
    "from sklearn.metrics import accuracy_score # \n",
    "import numpy as np\n",
    "import numpy.random as r # We will randomly initialize our weights\n",
    "import matplotlib.pyplot as plt \n",
    "\n",
    "def f(z):\n",
    "    return 1 / (1 + np.exp(-z))\n",
    "def f_deriv(z):\n",
    "    return f(z) * (1 - f(z))\n",
    "\n",
    "def setup_and_init_weights(nn_structure):\n",
    "    W = {} #creating a dictionary i.e. a set of key: value pairs\n",
    "    b = {}\n",
    "    for l in range(1, len(nn_structure)):\n",
    "        W[l] = r.random_sample((nn_structure[l], nn_structure[l-1])) #Return “continuous uniform” random floats in the half-open interval [0.0, 1.0). \n",
    "        b[l] = r.random_sample((nn_structure[l],))\n",
    "    return W, b\n",
    "def init_tri_values(nn_structure):\n",
    "    tri_W = {}\n",
    "    tri_b = {}\n",
    "    for l in range(1, len(nn_structure)):\n",
    "        tri_W[l] = np.zeros((nn_structure[l], nn_structure[l-1]))\n",
    "        tri_b[l] = np.zeros((nn_structure[l],))\n",
    "    return tri_W, tri_b\n",
    "def feed_forward(x, W, b):\n",
    "    a = {1: x} # create a dictionary for holding the a values for all levels\n",
    "    z = { } # create a dictionary for holding the z values for all the layers\n",
    "    for l in range(1, len(W) + 1): # for each layer\n",
    "        node_in = a[l]\n",
    "        z[l+1] = W[l].dot(node_in) + b[l]  # z^(l+1) = W^(l)*a^(l) + b^(l)\n",
    "        a[l+1] = f(z[l+1]) # a^(l+1) = f(z^(l+1))\n",
    "    return a, z\n",
    "\n",
    "def calculate_out_layer_delta(y, a_out, z_out):\n",
    "    # delta^(nl) = -(y_i - a_i^(nl)) * f'(z_i^(nl))\n",
    "    return -(y-a_out) * f_deriv(z_out) \n",
    "def calculate_hidden_delta(delta_plus_1, w_l, z_l):\n",
    "    # delta^(l) = (transpose(W^(l)) * delta^(l+1)) * f'(z^(l))\n",
    "    return np.dot(np.transpose(w_l), delta_plus_1) * f_deriv(z_l)\n",
    "\n",
    "def train_nn(nn_structure, X, y, iter_num=1000, alpha=0.25):\n",
    "    W, b = setup_and_init_weights(nn_structure)\n",
    "    cnt = 0\n",
    "    lmbda = 0.15\n",
    "    N = len(y)\n",
    "    row_len = X.shape[1]\n",
    "    avg_cost_func = []\n",
    "    print('Starting gradient descent for {} iterations'.format(iter_num))\n",
    "    while cnt < iter_num:\n",
    "        if cnt%100 == 0:\n",
    "            print('Iteration {} of {}'.format(cnt, iter_num))\n",
    "        tri_W, tri_b = init_tri_values(nn_structure)\n",
    "        avg_cost = 0\n",
    "        for i in range(N):\n",
    "            delta = {}\n",
    "            a, z = feed_forward(X.iloc[i,0:row_len], W, b)\n",
    "            for l in range(len(nn_structure), 0, -1):\n",
    "                if l == len(nn_structure):\n",
    "                    delta[l] = calculate_out_layer_delta(y[i], a[l], z[l])\n",
    "                    avg_cost += np.linalg.norm((y[i]-a[l]))\n",
    "                    #print(\"lin alg done\")\n",
    "                else:\n",
    "                    if l > 1:\n",
    "                        delta[l] = calculate_hidden_delta(delta[l+1], W[l], z[l])\n",
    "                        #print(\"hidden delta done\")\n",
    "                    # triW^(l) = triW^(l) + delta^(l+1) * transpose(a^(l))\n",
    "                    tri_W[l] += np.dot(delta[l+1][:,np.newaxis], np.transpose(a[l][:,np.newaxis]))\n",
    "                    tri_b[l] += delta[l+1]\n",
    "        for l in range(len(nn_structure) - 1, 0, -1):\n",
    "            W[l] += -alpha * (1.0/N * tri_W[l])\n",
    "            b[l] += -alpha * (1.0/N * tri_b[l])\n",
    "        avg_cost = 1.0/N * avg_cost \n",
    "        avg_cost_func.append(avg_cost)\n",
    "        cnt += 1\n",
    "    return W, b, avg_cost_func\n",
    "\n",
    "def predict_y(W, b, X, n_layers):\n",
    "    N = X.shape[0]\n",
    "    row_len = X.shape[1]\n",
    "    y = np.zeros((N,))\n",
    "    for i in range(N):\n",
    "        a, z = feed_forward(X.iloc[i,0:row_len], W, b)\n",
    "        y[i] = np.argmax(a[n_layers])\n",
    "    return y\n",
    "\n",
    "nn_structure = [3, 6, 1]\n",
    "\n",
    "    \n",
    "# train the NN\n",
    "print(Y_train.shape)\n",
    "W, b, avg_cost_func = train_nn(nn_structure, X_train, Y_train, 1000)"
   ]
  },
  {
   "cell_type": "code",
   "execution_count": 26,
   "id": "composed-upset",
   "metadata": {},
   "outputs": [
    {
     "data": {
      "image/png": "[encoded data removed]",
      "text/plain": [
       "<Figure size 432x288 with 1 Axes>"
      ]
     },
     "metadata": {
      "needs_background": "light"
     },
     "output_type": "display_data"
    },
    {
     "name": "stdout",
     "output_type": "stream",
     "text": [
      "Prediction accuracy is 43.646408839779006%\n"
     ]
    }
   ],
   "source": [
    "# plot the avg_cost_func\n",
    "plt.plot(avg_cost_func)\n",
    "plt.ylabel('Average J')\n",
    "plt.xlabel('Iteration number')\n",
    "plt.show()\n",
    "# get the prediction accuracy and print\n",
    "y_pred = predict_y(W, b, X_test, 3)\n",
    "print('Prediction accuracy is {}%'.format(accuracy_score(Y_test, y_pred) * 100))"
   ]
  },
  {
   "cell_type": "code",
   "execution_count": null,
   "id": "digital-collective",
   "metadata": {},
   "outputs": [],
   "source": []
  },
  {
   "cell_type": "code",
   "execution_count": null,
   "id": "geological-audio",
   "metadata": {},
   "outputs": [],
   "source": []
  },
  {
   "cell_type": "code",
   "execution_count": null,
   "id": "handmade-excuse",
   "metadata": {},
   "outputs": [],
   "source": []
  },
  {
   "cell_type": "code",
   "execution_count": null,
   "id": "biblical-belarus",
   "metadata": {},
   "outputs": [],
   "source": []
  }
 ],
 "metadata": {
  "kernelspec": {
   "display_name": "Python 3",
   "language": "python",
   "name": "python3"
  },
  "language_info": {
   "codemirror_mode": {
    "name": "ipython",
    "version": 3
   },
   "file_extension": ".py",
   "mimetype": "text/x-python",
   "name": "python",
   "nbconvert_exporter": "python",
   "pygments_lexer": "ipython3",
   "version": "3.9.2"
  }
 },
 "nbformat": 4,
 "nbformat_minor": 5
}